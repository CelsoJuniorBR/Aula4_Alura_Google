{
  "nbformat": 4,
  "nbformat_minor": 0,
  "metadata": {
    "colab": {
      "provenance": [],
      "authorship_tag": "ABX9TyM1aKjZVvoZy2mysFYf2Gnb",
      "include_colab_link": true
    },
    "kernelspec": {
      "name": "python3",
      "display_name": "Python 3"
    },
    "language_info": {
      "name": "python"
    }
  },
  "cells": [
    {
      "cell_type": "markdown",
      "metadata": {
        "id": "view-in-github",
        "colab_type": "text"
      },
      "source": [
        "<a href=\"https://colab.research.google.com/github/CelsoJuniorBR/Aula4_Alura_Google/blob/main/Mind_Think.ipynb\" target=\"_parent\"><img src=\"https://colab.research.google.com/assets/colab-badge.svg\" alt=\"Open In Colab\"/></a>"
      ]
    },
    {
      "cell_type": "code",
      "execution_count": null,
      "metadata": {
        "id": "zcNZ_wOtnSez"
      },
      "outputs": [],
      "source": [
        "!pip install -q -U google-generativeai"
      ]
    },
    {
      "cell_type": "markdown",
      "source": [
        "Importando as bibliotecas"
      ],
      "metadata": {
        "id": "GRUaY-vyp7HN"
      }
    },
    {
      "cell_type": "code",
      "source": [
        "import google.generativeai as genai\n",
        "from google.colab import userdata\n",
        "api_key = userdata.get(\"secret_key\")\n",
        "genai.configure(api_key=api_key)"
      ],
      "metadata": {
        "id": "j_wwUpcvp6iR"
      },
      "execution_count": null,
      "outputs": []
    },
    {
      "cell_type": "markdown",
      "source": [
        "Configurando o modelo"
      ],
      "metadata": {
        "id": "xhEz5hgTqF42"
      }
    },
    {
      "cell_type": "code",
      "source": [
        "model = genai.GenerativeModel(model_name=\"gemini-1.0-pro\",)"
      ],
      "metadata": {
        "id": "wzIeMqhNqR3m"
      },
      "execution_count": null,
      "outputs": []
    },
    {
      "cell_type": "markdown",
      "source": [
        "Recebendo dados do Usuario (Anaminese)"
      ],
      "metadata": {
        "id": "2WF_PeImqlNg"
      }
    },
    {
      "cell_type": "code",
      "source": [
        "while tipo_meditacao != \"Mindfullness\" or tipo_meditacao != \"Transcedental\" or tipo_meditacao != \"Samatha-vipassana\":\n",
        "  tipo_meditacao = input (\"Qual tipo de meditação você quer fazer? Escolha uma das opções: 1.Mindfullness | 2.Transcendental | 3.Samatha-vipassana (\\n)\")\n",
        "\n",
        "  if tipo_meditacao == \"1\":\n",
        "    tipo_meditacao = \"Mindfullness\"\n",
        "    break\n",
        "  elif tipo_meditacao == \"2\":\n",
        "    tipo_meditacao = \"Transcedental\"\n",
        "    break\n",
        "  elif tipo_meditacao == \"3\":\n",
        "    tipo_meditacao = \"Samatha-vipassana\"\n",
        "    break\n",
        "  else:\n",
        "    print(\"Insira uma alternativa correta! R:\")\n",
        "\n",
        "sentimento = input(\"Como você está se sentindo?\")\n",
        "mais = input(\"Quer adicionar mais alguma informação? R:\")\n",
        "if mais == \"não\" or \"nao\" or \"\":\n",
        "  mais = \"essas informações\""
      ],
      "metadata": {
        "colab": {
          "base_uri": "https://localhost:8080/"
        },
        "id": "_5fesS6nqsrl",
        "outputId": "38d1ab8f-f9cf-42b3-9a34-3b4d4ff3203b"
      },
      "execution_count": null,
      "outputs": [
        {
          "name": "stdout",
          "output_type": "stream",
          "text": [
            "Qual tipo de meditação você quer fazer? Escolha uma das opções: 1.Mindfullness | 2.Transcendental | 3.Samatha-vipassana (\n",
            ")2\n",
            "Como você está se sentindo?Bem\n",
            "Quer adicionar mais alguma informação?Abobrinha\n"
          ]
        }
      ]
    },
    {
      "cell_type": "markdown",
      "source": [
        "Enviando dados para o Gemini"
      ],
      "metadata": {
        "id": "Kbm2g-MQ6nNN"
      }
    },
    {
      "cell_type": "code",
      "source": [
        "resposta = model.generate_content(f\"Crie uma meditação guiada {tipo_meditacao}, para alguém que está se sentindo {sentimento}, considerando {mais}. Use linguagem positiva e acolhedora.\")\n",
        "print(f\"As informações geradas são experimentais e devem ser utilizadas com cautela.(\\n) Aqui está sua meditação:(\\n) {resposta.text}\")"
      ],
      "metadata": {
        "colab": {
          "base_uri": "https://localhost:8080/",
          "height": 436
        },
        "id": "ehR5n1hH6qhu",
        "outputId": "26d6d284-5111-4e91-f036-56288559478e"
      },
      "execution_count": null,
      "outputs": [
        {
          "output_type": "stream",
          "name": "stdout",
          "text": [
            "As informações geradas são experimentais e devem ser utilizadas com cautela.(\n",
            ") Aqui está sua meditação:(\n",
            ") **Meditação Transcendental para Bem-Estar**\n",
            "\n",
            "Encontre um lugar tranquilo onde você não será perturbado. Sente-se confortavelmente, com as pernas cruzadas e as costas retas. Feche os olhos suavemente.\n",
            "\n",
            "Comece a prestar atenção à sua respiração. Observe o ar entrando e saindo de suas narinas. Não tente controlar sua respiração, apenas observe.\n",
            "\n",
            "À medida que você se concentra na respiração, comece a repetir silenciosamente um mantra. O mantra pode ser qualquer palavra ou frase que lhe traga paz e tranquilidade. Por exemplo, você pode repetir \"Paz\" ou \"Sou grato\".\n",
            "\n",
            "Continue repetindo o mantra enquanto observa sua respiração. Não se preocupe se sua mente vagueia. Quando perceber que sua mente vagou, traga-a gentilmente de volta para o mantra e a observação da respiração.\n",
            "\n",
            "Esta meditação deve durar de 15 a 20 minutos. Quando você terminar, abra os olhos lentamente e aproveite a sensação de paz e bem-estar.\n",
            "\n",
            "**Reflexão:**\n",
            "\n",
            "Depois de terminar a meditação, reserve alguns minutos para refletir sobre sua experiência:\n",
            "\n",
            "* Como você se sentiu durante a meditação?\n",
            "* O que você notou sobre sua mente e corpo?\n",
            "* Como você se sente agora, depois da meditação?\n",
            "\n",
            "Se você praticar esta meditação regularmente, ela pode ajudá-lo a cultivar um senso mais profundo de paz, alegria e bem-estar em sua vida.\n"
          ]
        }
      ]
    }
  ]
}