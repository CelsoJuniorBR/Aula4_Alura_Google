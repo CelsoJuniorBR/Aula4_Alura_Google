{
  "nbformat": 4,
  "nbformat_minor": 0,
  "metadata": {
    "colab": {
      "provenance": [],
      "authorship_tag": "ABX9TyO1ywX67AzRZQuIR89MM/lh",
      "include_colab_link": true
    },
    "kernelspec": {
      "name": "python3",
      "display_name": "Python 3"
    },
    "language_info": {
      "name": "python"
    }
  },
  "cells": [
    {
      "cell_type": "markdown",
      "metadata": {
        "id": "view-in-github",
        "colab_type": "text"
      },
      "source": [
        "<a href=\"https://colab.research.google.com/github/CelsoJuniorBR/Aula4_Alura_Google/blob/main/Mind_Think.ipynb\" target=\"_parent\"><img src=\"https://colab.research.google.com/assets/colab-badge.svg\" alt=\"Open In Colab\"/></a>"
      ]
    },
    {
      "cell_type": "code",
      "execution_count": 1,
      "metadata": {
        "id": "zcNZ_wOtnSez"
      },
      "outputs": [],
      "source": [
        "!pip install -q -U google-generativeai"
      ]
    },
    {
      "cell_type": "markdown",
      "source": [
        "Importando as bibliotecas"
      ],
      "metadata": {
        "id": "GRUaY-vyp7HN"
      }
    },
    {
      "cell_type": "code",
      "source": [
        "import google.generativeai as genai\n",
        "from google.colab import userdata\n",
        "api_key = userdata.get(\"secret_key\")\n",
        "genai.configure(api_key=api_key)"
      ],
      "metadata": {
        "id": "j_wwUpcvp6iR"
      },
      "execution_count": 2,
      "outputs": []
    },
    {
      "cell_type": "markdown",
      "source": [
        "Configurando o modelo"
      ],
      "metadata": {
        "id": "xhEz5hgTqF42"
      }
    },
    {
      "cell_type": "code",
      "source": [
        "model = genai.GenerativeModel(model_name=\"gemini-1.0-pro\",)"
      ],
      "metadata": {
        "id": "wzIeMqhNqR3m"
      },
      "execution_count": 3,
      "outputs": []
    },
    {
      "cell_type": "markdown",
      "source": [
        "Recebendo dados do Usuario (Anaminese)"
      ],
      "metadata": {
        "id": "2WF_PeImqlNg"
      }
    },
    {
      "cell_type": "code",
      "source": [
        "tipo_meditacao = \"\"\n",
        "while tipo_meditacao != \"Mindfullness\" or tipo_meditacao != \"Transcedental\" or tipo_meditacao != \"Samatha-vipassana\":\n",
        "  tipo_meditacao = input (\"Qual tipo de meditação você quer fazer? Escolha uma das opções: 1.Mindfullness | 2.Transcendental | 3.Samatha-vipassana (\\n)\")\n",
        "\n",
        "  if tipo_meditacao == \"1\":\n",
        "    tipo_meditacao = \"Mindfullness\"\n",
        "    break\n",
        "  elif tipo_meditacao == \"2\":\n",
        "    tipo_meditacao = \"Transcedental\"\n",
        "    break\n",
        "  elif tipo_meditacao == \"3\":\n",
        "    tipo_meditacao = \"Samatha-vipassana\"\n",
        "    break\n",
        "  else:\n",
        "    print(\"Insira uma alternativa correta! R:\")\n",
        "\n",
        "sentimento = input(\"Como você está se sentindo?\")\n",
        "mais = input(\"Quer adicionar mais alguma informação? R:\")\n",
        "if mais == \"não\" or \"nao\" or \"\":\n",
        "  mais = \"essas informações\""
      ],
      "metadata": {
        "colab": {
          "base_uri": "https://localhost:8080/"
        },
        "id": "_5fesS6nqsrl",
        "outputId": "ab6c8f99-0efb-4dcb-847f-60880851cacb"
      },
      "execution_count": 6,
      "outputs": [
        {
          "name": "stdout",
          "output_type": "stream",
          "text": [
            "Qual tipo de meditação você quer fazer? Escolha uma das opções: 1.Mindfullness | 2.Transcendental | 3.Samatha-vipassana (\n",
            ")3\n",
            "Como você está se sentindo?Triste\n",
            "Quer adicionar mais alguma informação? R:nao\n"
          ]
        }
      ]
    },
    {
      "cell_type": "markdown",
      "source": [
        "Enviando dados para o Gemini e obtendo a resposta."
      ],
      "metadata": {
        "id": "Kbm2g-MQ6nNN"
      }
    },
    {
      "cell_type": "code",
      "source": [
        "resposta = model.generate_content(f\"Crie uma meditação guiada {tipo_meditacao}, para alguém que está se sentindo {sentimento}, considerando {mais}. Use linguagem positiva e acolhedora.\")\n",
        "print(f\"As informações geradas são experimentais e devem ser utilizadas com cautela.\\n Aqui está sua meditação:\\n {resposta.text}\")"
      ],
      "metadata": {
        "colab": {
          "base_uri": "https://localhost:8080/",
          "height": 746
        },
        "id": "ehR5n1hH6qhu",
        "outputId": "14cadc29-e8a2-4c9b-f3fc-357ed0835b45"
      },
      "execution_count": 7,
      "outputs": [
        {
          "output_type": "stream",
          "name": "stdout",
          "text": [
            "As informações geradas são experimentais e devem ser utilizadas com cautela.\n",
            " Aqui está sua meditação:\n",
            " **Meditação Guiada Samatha-Vipassana para Tristeza**\n",
            "\n",
            "Encontre um lugar tranquilo onde você não será perturbado. Sente-se confortavelmente com a coluna ereta e os olhos fechados.\n",
            "\n",
            "**Samatha (Calma Mental)**\n",
            "\n",
            "* Foque sua atenção na respiração. Observe a sensação da respiração entrando e saindo de seu corpo.\n",
            "* Se sua mente divagar, gentilmente traga-a de volta para a respiração. Não se julgue se sua mente se distrair. É natural.\n",
            "* Gradualmente, você sentirá sua mente se acalmando e se tornando mais tranquila.\n",
            "\n",
            "**Vipassana (Visão Profunda)**\n",
            "\n",
            "* Agora, amplie sua atenção para incluir todo o seu corpo físico.\n",
            "* Observe quaisquer sensações que surgirem, sejam elas agradáveis ou desagradáveis.\n",
            "* Não as julgue ou tente mudá-las. Apenas observe-as com curiosidade e aceitação.\n",
            "* Você pode notar tensão em seus ombros, dor de cabeça ou uma sensação de peso em seu peito.\n",
            "\n",
            "**Tristeza**\n",
            "\n",
            "* Observe a sensação de tristeza em seu corpo. Onde você a sente? Como ela se manifesta?\n",
            "* Não resista à tristeza ou tente afastá-la. Em vez disso, permita que ela esteja lá.\n",
            "* Observe como a tristeza muda e flui com o tempo. Ele se intensifica? Diminui?\n",
            "\n",
            "**Compreensão**\n",
            "\n",
            "* Agora, traga sua atenção para a natureza transitória da tristeza. Todas as emoções, incluindo a tristeza, são impermanentes.\n",
            "* Lembre-se que a tristeza não define você. É apenas uma experiência que você está tendo neste momento.\n",
            "* Observe que, mesmo no meio da tristeza, existem momentos de alegria ou neutralidade.\n",
            "\n",
            "**Amor e Compaixão**\n",
            "\n",
            "* Estenda amor e compaixão para si mesmo e para todos aqueles que estão sofrendo.\n",
            "* Reconheça que a tristeza é uma parte comum da experiência humana.\n",
            "* Deseje que você e todos os seres sejam livres do sofrimento da tristeza.\n",
            "\n",
            "**Conclusão**\n",
            "\n",
            "* Aos poucos, comece a abrir seus olhos e retornar à sua rotina diária.\n",
            "* Lembre-se dos insights que você ganhou e das ferramentas que você aprendeu para lidar com a tristeza.\n",
            "* Seja gentil consigo mesmo e saiba que você não está sozinho.\n"
          ]
        }
      ]
    }
  ]
}